{
  "nbformat": 4,
  "nbformat_minor": 0,
  "metadata": {
    "colab": {
      "provenance": [],
      "collapsed_sections": []
    },
    "kernelspec": {
      "name": "python3",
      "display_name": "Python 3"
    },
    "language_info": {
      "name": "python"
    }
  },
  "cells": [
    {
      "cell_type": "code",
      "execution_count": null,
      "metadata": {
        "id": "m-959O7f5ENT"
      },
      "outputs": [],
      "source": [
        "# Box Simulator"
      ]
    },
    {
      "cell_type": "code",
      "source": [
        "import random\n",
        "\n",
        "class box:\n",
        "  def __init__(self, box_number, box_inside_number):\n",
        "    self.condition = False\n",
        "    self.box_number = box_number\n",
        "    self.box_inside_number = box_inside_number\n",
        "\n",
        "  def open_box(self):\n",
        "    if self.condition == True:\n",
        "      return False #BOX already opend\n",
        "    else:\n",
        "      self.condition = False\n",
        "      return self.box_inside_number\n",
        "\n",
        "  def get_condition(self):\n",
        "      return self.condition\n",
        "  \n",
        "  def get_box_number(self):\n",
        "      return self.box_number\n",
        "  \n",
        "  def get_box_inside_number(self):\n",
        "      return self.box_inside_number\n",
        "\n",
        "class prisoner:\n",
        "    def __init__(self, prisoner_number):\n",
        "      self.prisoner_number = prisoner_number\n",
        "      self.opend_list = []\n",
        "      self.next_box = prisoner_number\n",
        "\n",
        "    def get_prisoner_number(self):\n",
        "      return self.prisoner_number\n",
        "    \n",
        "    def get_opend_list(self):\n",
        "      return self.opend_list\n",
        "\n",
        "    def get_next_box(self):\n",
        "      return self.next_box\n",
        "\n",
        "    def update_next_box(self, next_number):\n",
        "      self.next_box = next_number\n",
        "\n",
        "    def update_opend_list(self, opend):\n",
        "      self.opend_list.append(opend)\n",
        "\n",
        "class env_function:\n",
        "    def __init__(self, lens):\n",
        "      self.lens = lens\n",
        "      self.randoms = []\n",
        "      self.num_list = list(range(1, self.lens+1))\n",
        "      self.randoms = random.sample(self.num_list, self.lens)\n",
        "\n",
        "    def get_list(self):\n",
        "      return self.randoms"
      ],
      "metadata": {
        "id": "aydRUew-5NzY"
      },
      "execution_count": 115,
      "outputs": []
    },
    {
      "cell_type": "code",
      "source": [
        "def env_gen(number_of_boxs):\n",
        "  box_list = []\n",
        "  prisoner_list = []\n",
        "  env_func = env_function(number_of_boxs)\n",
        "  random_list = env_func.get_list()\n",
        "  for i in range(number_of_boxs):\n",
        "    box_list.append(box(i+1,random_list[i]))\n",
        "    prisoner_list.append(prisoner(i+1))\n",
        "  return box_list, prisoner_list\n",
        "\n",
        "def condition_1(box_list, prisoner_list,condi):\n",
        "  fail_flag = False\n",
        "  fail_cnt = 0\n",
        "  success_cnt = 0\n",
        "  for iter in range(0,condi):\n",
        "    for i in range(len(prisoner_list)):\n",
        "      if fail_flag == True:\n",
        "        fail_flag == False\n",
        "        break\n",
        "      else:\n",
        "        for j in range(int((len(box_list)/2))+1):\n",
        "          if j == int(len(box_list)/2) :\n",
        "            fail_flag = True\n",
        "            fail_cnt = fail_cnt +1\n",
        "            break\n",
        "          opend_number = box_list[prisoner_list[i].get_next_box()-1].open_box()\n",
        "          if opend_number == False: \n",
        "            j = j - 1\n",
        "          else:\n",
        "            prisoner_list[i].update_opend_list(prisoner_list[i].get_next_box()-1)\n",
        "            prisoner_list[i].update_next_box(opend_number)\n",
        "            if opend_number == prisoner_list[i].get_prisoner_number():\n",
        "              break\n",
        "      if i == len(prisoner_list)-1:\n",
        "        success_cnt = success_cnt + 1\n",
        "\n",
        "    return success_cnt, fail_cnt\n",
        "\n",
        "def condition_2(box_list, prisoner_list,condi):\n",
        "  pass #to be implemented\n",
        "  \n",
        "\n",
        "def emulator(condition,num_of_box,iter):\n",
        "  asc = 0\n",
        "  afc = 0\n",
        "  if condition == 1:\n",
        "    for i in range(1000):\n",
        "      box_list, prisoner_list = env_gen(num_of_box)\n",
        "      sc, fc = condition_1(box_list,prisoner_list,1)\n",
        "      asc = asc + sc\n",
        "      afc = afc + fc\n",
        "    return asc,afc\n",
        "\n",
        "  elif condition ==2 :\n",
        "    for i in range(1000):\n",
        "      box_list, prisoner_list = env_gen(num_of_box)\n",
        "      sc, fc = condition_1(box_list,prisoner_list,1)\n",
        "      asc = asc + sc\n",
        "      afc = afc + fc\n",
        "    return asc,afc\n",
        "\n",
        "asc, afc = emulator(1,6,300)\n",
        "print(asc,afc)"
      ],
      "metadata": {
        "colab": {
          "base_uri": "https://localhost:8080/"
        },
        "id": "P1CkWkGh7UPP",
        "outputId": "447f09f2-c6d1-4c2e-8f0d-1062f3167787"
      },
      "execution_count": 239,
      "outputs": [
        {
          "output_type": "stream",
          "name": "stdout",
          "text": [
            "348 652\n"
          ]
        }
      ]
    }
  ]
}